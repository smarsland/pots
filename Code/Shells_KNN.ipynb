{
 "cells": [
  {
   "cell_type": "markdown",
   "metadata": {},
   "source": [
    "## KNN on Shells\n",
    "\n",
    "Given a distance matrix and an index with a labelled training and test set, we can perform KNN classification. \n",
    "We try various values for K, from 1-8. \n",
    "\n",
    "The notebook provides the code needed for the KNN classificaiton as well as the code to plot confusion matrices based on the results, as well as other graphs."
   ]
  },
  {
   "cell_type": "markdown",
   "metadata": {},
   "source": [
    "### Imports"
   ]
  },
  {
   "cell_type": "code",
   "execution_count": 1,
   "metadata": {},
   "outputs": [],
   "source": [
    "import fdasrsf\n",
    "from statistics import mode\n",
    "import numpy as np\n",
    "import pandas as pd\n",
    "import matplotlib.pyplot as plt \n",
    "from numpy import tile, eye, arccos, zeros, sin, arange, linspace, empty\n",
    "from copy import deepcopy\n",
    "import fdasrsf.geodesic as gd\n",
    "import os\n",
    "from tqdm import notebook as tqdm\n",
    "import re\n",
    "import seaborn as sns; sns.set()\n",
    "from sklearn.metrics import confusion_matrix\n",
    "from sklearn.metrics import f1_score\n",
    "import fdasrsf.curve_functions as cf\n",
    "from sklearn.metrics.cluster import adjusted_rand_score"
   ]
  },
  {
   "cell_type": "markdown",
   "metadata": {},
   "source": [
    "### Data"
   ]
  },
  {
   "cell_type": "code",
   "execution_count": 2,
   "metadata": {},
   "outputs": [],
   "source": [
    "table = pd.read_csv(\"shells_sample_index.csv\")\n",
    "table_meta = pd.read_csv(\"shells_metadata.csv\")\n",
    "train_names = list(table[table[\"Test_Train\"]==\"train\"][\"Name\"])\n",
    "test_names = list(table[table[\"Test_Train\"]==\"test\"][\"Name\"])\n",
    "all_dists = pd.read_csv(\"EigenshapeDists_unitlength_proc_shells_dim16_2.csv\")\n",
    "all_dists = all_dists.set_index('Name')\n",
    "\n",
    "title = \"Shells_EShape_UL_Proc_16D_k4\"\n"
   ]
  },
  {
   "cell_type": "markdown",
   "metadata": {},
   "source": [
    "### Shell Coordinates"
   ]
  },
  {
   "cell_type": "code",
   "execution_count": 3,
   "metadata": {},
   "outputs": [],
   "source": [
    "pth = \"Shells_Coords_UnitLength_Proc.csv\"\n",
    "table_2 = pd.read_csv(pth,header=None)\n",
    "\n",
    "all_points = []\n",
    "n = len(table_2)\n",
    "for j in range(0,n):\n",
    "    coords = list(table_2.T[j])\n",
    "    x = []\n",
    "    y = []\n",
    "    for i in range(0,len(coords)):\n",
    "        if i%2 == 0:\n",
    "            x.append(coords[i])\n",
    "        else:\n",
    "            y.append(coords[i])\n",
    "\n",
    "    x.append(x[0])\n",
    "    y.append(y[-1])\n",
    "    \n",
    "    rng = abs(max(y)-min(y))\n",
    "    x = list(np.array(x)/rng)\n",
    "    y = list(np.array(y)/rng)\n",
    "    \n",
    "    F = np.column_stack((x,y)).T    \n",
    "    all_points.append(F)"
   ]
  },
  {
   "cell_type": "markdown",
   "metadata": {},
   "source": [
    "### KNN Classification"
   ]
  },
  {
   "cell_type": "code",
   "execution_count": 4,
   "metadata": {},
   "outputs": [],
   "source": [
    "# We'll make note of the family, genus and specie accuracy of the results in the following dictionaries.\n",
    "# Here, we assume that we will test various values for K, up to K=8.\n",
    "\n",
    "family_stats = {}\n",
    "genus_stats = {}\n",
    "specie_stats = {}\n",
    "\n",
    "for shell in test_names:\n",
    "    family = list(table[table[\"Name\"]==shell][\"Genus\"])[0]\n",
    "    family_stats.update({family:{\"total\":0,\"K1\":0,\"K3\":0,\"K4\":0,\"K5\":0,\"K6\":0,\"K7\":0,\"K8\":0}})\n",
    "    genus = list(table[table[\"Name\"]==shell][\"Specie\"])[0]\n",
    "    genus_stats.update({genus:{\"total\":0,\"K1\":0,\"K3\":0,\"K4\":0,\"K5\":0,\"K6\":0,\"K7\":0,\"K8\":0}})\n",
    "    specie = list(table[table[\"Name\"]==shell][\"Sub-specie\"])[0]\n",
    "    specie_stats.update({specie:{\"total\":0,\"K1\":0,\"K3\":0,\"K4\":0,\"K5\":0,\"K6\":0,\"K7\":0,\"K8\":0}})\n",
    "    \n",
    "for shell in test_names:\n",
    "    family = list(table[table[\"Name\"]==shell][\"Genus\"])[0]\n",
    "    tot = int(family_stats[family][\"total\"])\n",
    "    family_stats[family][\"total\"] = tot+1\n",
    "    genus = list(table[table[\"Name\"]==shell][\"Specie\"])[0]\n",
    "    tot = int(genus_stats[genus][\"total\"])\n",
    "    genus_stats[genus][\"total\"] = tot+1\n",
    "    specie = list(table[table[\"Name\"]==shell][\"Sub-specie\"])[0]\n",
    "    tot = int(specie_stats[specie][\"total\"])\n",
    "    specie_stats[specie][\"total\"] = tot+1\n",
    "    \n",
    "    \n",
    "unq_family = list(np.unique(list(table[\"Genus\"])))\n",
    "unq_genus = list(np.unique(list(table[\"Specie\"])))\n",
    "unq_specie = list(np.unique(list(table[\"Sub-specie\"])))\n",
    "\n",
    "unq_names_fm = []\n",
    "for shell in unq_family:\n",
    "    unq_names_fm.append(list(table_meta[table_meta[\"family_number\"] == shell][\"family\"])[0])\n",
    "    \n",
    "unq_names_gn = []\n",
    "for shell in unq_genus:\n",
    "    unq_names_gn.append(list(table_meta[table_meta[\"genus_number\"] == shell][\"genus\"])[0])\n",
    "    \n",
    "unq_names_sp = []\n",
    "for shell in unq_specie:\n",
    "    unq_names_sp.append(list(table_meta[table_meta[\"species_number\"] == shell][\"valid_sci_name\"])[0])"
   ]
  },
  {
   "cell_type": "code",
   "execution_count": 5,
   "metadata": {},
   "outputs": [
    {
     "data": {
      "application/vnd.jupyter.widget-view+json": {
       "model_id": "91806ea0f44d4742be69214b8120c450",
       "version_major": 2,
       "version_minor": 0
      },
      "text/plain": [
       "HBox(children=(FloatProgress(value=0.0, max=7.0), HTML(value='')))"
      ]
     },
     "metadata": {},
     "output_type": "display_data"
    },
    {
     "name": "stdout",
     "output_type": "stream",
     "text": [
      "\n"
     ]
    }
   ],
   "source": [
    "k_neighbours = [1,3,4,5,6,7,8]\n",
    "\n",
    "scores_fm = []\n",
    "scores_gn = []\n",
    "scores_sp = []\n",
    "\n",
    "for neigh in tqdm.tqdm(k_neighbours):\n",
    "\n",
    "    # This will be updated during the Knn algorithm to contain the list of all the pots and their predicted sample.\n",
    "    # To start with, it only contains the details from the training sample.\n",
    "    specie_details = {}\n",
    "    for shell in train_names:\n",
    "        specie_details.update({shell:{\"specie\":list(table[table[\"Name\"]==shell][\"Sub-specie\"])[0]}})\n",
    "\n",
    "    for testshell in test_names:\n",
    "        dists = []\n",
    "        for trainshell in train_names:\n",
    "            d = all_dists[testshell][trainshell]\n",
    "            dists.append(d)\n",
    "        toprnk = np.argsort(dists)[:neigh]\n",
    "        top_classes = []\n",
    "        for ind in toprnk:\n",
    "            top_classes.append(specie_details[train_names[ind]][\"specie\"])\n",
    "        try:\n",
    "            shellclass = mode(top_classes)\n",
    "        except:\n",
    "            shellclass = top_classes[0]\n",
    "\n",
    "        specie_details.update({testshell:{\"specie\":shellclass}})\n",
    "        \n",
    "    act_family = []\n",
    "    act_genus = []\n",
    "    act_specie = []\n",
    "    \n",
    "    pred_family = []\n",
    "    pred_genus = []\n",
    "    pred_specie = []\n",
    "\n",
    "    for shell in test_names:\n",
    "        pred_sp = int(specie_details[shell][\"specie\"])\n",
    "        pred_gn = list(table[table[\"Sub-specie\"]==pred_sp][\"Specie\"])[0]\n",
    "        pred_fm = list(table[table[\"Sub-specie\"]==pred_sp][\"Genus\"])[0]\n",
    "\n",
    "        act_sp = int(list(table[table[\"Name\"]==shell][\"Sub-specie\"])[0])\n",
    "        act_gn = int(list(table[table[\"Name\"]==shell][\"Specie\"])[0])\n",
    "        act_fm = int(list(table[table[\"Name\"]==shell][\"Genus\"])[0])\n",
    "\n",
    "        act_family.append(act_fm)\n",
    "        act_genus.append(act_gn)\n",
    "        act_specie.append(act_sp)\n",
    "        \n",
    "        pred_family.append(pred_fm)\n",
    "        pred_genus.append(pred_gn)\n",
    "        pred_specie.append(pred_sp)\n",
    "    \n",
    "    scores_fm.append(adjusted_rand_score(act_family, pred_family))\n",
    "    scores_gn.append(adjusted_rand_score(act_genus, pred_genus))\n",
    "    scores_sp.append(adjusted_rand_score(act_specie, pred_specie))        \n",
    "  "
   ]
  },
  {
   "cell_type": "markdown",
   "metadata": {},
   "source": [
    "### Confusion Matrices"
   ]
  },
  {
   "cell_type": "code",
   "execution_count": 6,
   "metadata": {},
   "outputs": [
    {
     "data": {
      "text/plain": [
       "Text(0.5, 1, 'KNN Conf. Matrix Shells_EShape_UL_Proc_16D_k4, Family ARI=0.945, k=4')"
      ]
     },
     "execution_count": 6,
     "metadata": {},
     "output_type": "execute_result"
    },
    {
     "data": {
      "image/png": "[encoded data removed]",
      "text/plain": [
       "<Figure size 432x432 with 1 Axes>"
      ]
     },
     "metadata": {},
     "output_type": "display_data"
    }
   ],
   "source": [
    "ind_k = np.argmax(scores_gn[1:])+1\n",
    "\n",
    "neigh = k_neighbours[ind_k]\n",
    "\n",
    "specie_details = {}\n",
    "for shell in train_names:\n",
    "    specie_details.update({shell:{\"specie\":list(table[table[\"Name\"]==shell][\"Sub-specie\"])[0]}})\n",
    "\n",
    "for testshell in test_names:\n",
    "    dists = []\n",
    "    for trainshell in train_names:\n",
    "        d = all_dists[testshell][trainshell]\n",
    "        dists.append(d)\n",
    "    toprnk = np.argsort(dists)[:neigh]\n",
    "    top_classes = []\n",
    "    for ind in toprnk:\n",
    "        top_classes.append(specie_details[train_names[ind]][\"specie\"])\n",
    "    try:\n",
    "        shellclass = mode(top_classes)\n",
    "    except:\n",
    "        shellclass = top_classes[0]\n",
    "\n",
    "    specie_details.update({testshell:{\"specie\":shellclass}})\n",
    "\n",
    "act_family = []\n",
    "act_genus = []\n",
    "act_specie = []\n",
    "\n",
    "pred_family = []\n",
    "pred_genus = []\n",
    "pred_specie = []\n",
    "\n",
    "for shell in test_names:\n",
    "    pred_sp = int(specie_details[shell][\"specie\"])\n",
    "    pred_gn = list(table[table[\"Sub-specie\"]==pred_sp][\"Specie\"])[0]\n",
    "    pred_fm = list(table[table[\"Sub-specie\"]==pred_sp][\"Genus\"])[0]\n",
    "\n",
    "    act_sp = int(list(table[table[\"Name\"]==shell][\"Sub-specie\"])[0])\n",
    "    act_gn = int(list(table[table[\"Name\"]==shell][\"Specie\"])[0])\n",
    "    act_fm = int(list(table[table[\"Name\"]==shell][\"Genus\"])[0])\n",
    "\n",
    "    act_family.append(act_fm)\n",
    "    act_genus.append(act_gn)\n",
    "    act_specie.append(act_sp)\n",
    "\n",
    "    pred_family.append(pred_fm)\n",
    "    pred_genus.append(pred_gn)\n",
    "    pred_specie.append(pred_sp)\n",
    "\n",
    "CM = confusion_matrix(act_family, pred_family,labels=unq_family,normalize='true')\n",
    "cm_df_sc = pd.DataFrame(CM)\n",
    "cm_df_sc = cm_df_sc.rename(index=dict(zip(list(cm_df_sc.index),unq_names_fm)))\n",
    "cm_df_sc.columns = unq_names_fm\n",
    "\n",
    "plt.figure(figsize=(6,6))\n",
    "ax=plt.subplot(111)\n",
    "plot = sns.heatmap(cm_df_sc,ax=ax,cbar=False,annot=True,cmap=\"BuPu\")\n",
    "plt.tight_layout()\n",
    "ax.set_title(\"KNN Conf. Matrix \"+title+\", Family ARI=\"+str(np.round(scores_fm[ind_k],3))+\", k=\"+str(neigh))\n",
    "#plot.figure.savefig(\"ConfMat_Family_\"+title+\"_k\"+str(neigh)+\".png\",bbox_inches = 'tight',pad_inches=0.1)\n",
    "\n",
    "# CM = confusion_matrix(act_genus, pred_genus,labels=unq_genus,normalize='true')\n",
    "# cm_df_sc = pd.DataFrame(CM)\n",
    "# cm_df_sc = cm_df_sc.rename(index=dict(zip(list(cm_df_sc.index),unq_names_gn)))\n",
    "# cm_df_sc.columns = unq_names_gn\n",
    "\n",
    "# fig = plt.figure(figsize=(9,9))\n",
    "# gs = fig.add_gridspec(10, len(unq_genus),wspace=0.01)\n",
    "# ax1 = fig.add_subplot(gs[0:9, :])\n",
    "# ax1.set_title(\"KNN Conf. Matrix \"+title+\", Genus ARI=\"+str(np.round(scores_gn[ind_k],3))+\", k=\"+str(neigh))\n",
    "# sns.heatmap(cm_df_sc,ax=ax1,cbar=False,annot=True,cmap=\"BuPu\")\n",
    "# ax1.set_xticks([], [])\n",
    "# ax1.set(xlabel=' ')\n",
    "\n",
    "# mins = []\n",
    "# maxs = []\n",
    "# for i,j in enumerate(unq_genus):\n",
    "#     ind = list(table[table[\"Specie\"]==j][\"Index\"])[0]\n",
    "#     y = -1*all_points[ind][1]\n",
    "#     mins.append(min(y))\n",
    "#     maxs.append(max(y))\n",
    "    \n",
    "# for i,j in enumerate(unq_genus):\n",
    "#     ax = fig.add_subplot(gs[9,i])\n",
    "#     ind = list(table[table[\"Specie\"]==j][\"Index\"])[0]\n",
    "#     mn = mins[i] - min(mins)\n",
    "#     ax.set_axis_off()\n",
    "#     ax.fill(all_points[ind][0],(-1*all_points[ind][1])-mn,'m')\n",
    "#     ax.set_title(unq_names_gn[i],rotation=90,fontsize=11,y=-1.7)\n",
    "    \n",
    "# plot.figure.savefig(\"ConfMat_Genus_\"+title+\"_k\"+str(neigh)+\".png\",bbox_inches = 'tight',pad_inches=0.1)\n",
    "\n",
    "\n",
    "# CM = confusion_matrix(act_specie, pred_specie,labels=unq_specie,normalize='true')\n",
    "# cm_df_sc = pd.DataFrame(CM)\n",
    "# cm_df_sc = cm_df_sc.rename(index=dict(zip(list(cm_df_sc.index),unq_names_sp)))\n",
    "# cm_df_sc.columns = unq_names_sp\n",
    "\n",
    "# fig = plt.figure(figsize=(16,16))\n",
    "# gs = fig.add_gridspec(15, len(unq_specie),wspace=0.01)\n",
    "# ax1 = fig.add_subplot(gs[0:14, :])\n",
    "# ax1.set_title(\"KNN Conf. Matrix \"+title+\", Species ARI=\"+str(np.round(scores_sp[ind_k],3))+\", k=\"+str(neigh))\n",
    "# sns.heatmap(cm_df_sc,ax=ax1,cbar=False,annot=True,cmap=\"BuPu\",annot_kws={\"size\": 8})\n",
    "# ax1.set_xticks([], [])\n",
    "# ax1.set(xlabel=' ')\n",
    "\n",
    "# mins = []\n",
    "# maxs = []\n",
    "# for i,j in enumerate(unq_specie):\n",
    "#     ind = list(table[table[\"Sub-specie\"]==j][\"Index\"])[0]\n",
    "#     y = -1*all_points[ind][1]\n",
    "#     mins.append(min(y))\n",
    "#     maxs.append(max(y))\n",
    "    \n",
    "# for i,j in enumerate(unq_specie):\n",
    "#     ax = fig.add_subplot(gs[14,i])\n",
    "#     ind = list(table[table[\"Sub-specie\"]==j][\"Index\"])[0]\n",
    "#     mn = mins[i] - min(mins)\n",
    "#     ax.set_axis_off()\n",
    "#     ax.fill(all_points[ind][0],(-1*all_points[ind][1])-mn,'m')\n",
    "#     ax.set_title(unq_names_sp[i],rotation=90,y=-3.1)\n",
    "\n",
    "# plot.figure.savefig(\"ConfMat_Specie_\"+title+\"_k\"+str(neigh)+\".png\",bbox_inches = 'tight',pad_inches=0.1)\n",
    "\n"
   ]
  },
  {
   "cell_type": "markdown",
   "metadata": {},
   "source": [
    "### K Comparisons"
   ]
  },
  {
   "cell_type": "code",
   "execution_count": null,
   "metadata": {},
   "outputs": [],
   "source": [
    "df = pd.DataFrame([k_neighbours,scores_fm,scores_gn,scores_sp]).T\n",
    "df = df.rename(columns={0:\"Neighbours\",1:\"Family\",2:\"Genus\",3:\"Specie\"})\n",
    "df2 = df.melt(\"Neighbours\", var_name='Rank',  value_name='ARI')\n",
    "ARI = list(df2.sort_values(by=['Neighbours',\"Rank\"])[\"ARI\"])"
   ]
  },
  {
   "cell_type": "code",
   "execution_count": null,
   "metadata": {},
   "outputs": [],
   "source": [
    "fig_dims = (12, 7)\n",
    "fig, ax = plt.subplots(figsize=fig_dims)\n",
    "axis = [0,0,0,1,1,1,2,2,2,3,3,3,4,4,4,5,5,5,6,6,6]\n",
    "g = sns.barplot(x=\"Neighbours\", y=\"ARI\", hue='Rank', data=df2,palette = sns.cubehelix_palette(7, start=.95, rot=-.75)\n",
    "           ,ax = ax)\n",
    "for i in range(0,len(ARI)):\n",
    "    p = 0\n",
    "    if i%3 == 0:\n",
    "        p = -0.25\n",
    "    if i%3 == 2:\n",
    "        p = 0.275\n",
    "        \n",
    "    g.text(axis[i]+p,ARI[i]+0.01,str(np.round(ARI[i],3)), color='black', ha=\"center\",fontsize=10)\n",
    "\n",
    "ax.legend(title=\"Tax Rank\",bbox_to_anchor=(1, 1))\n",
    "ax.set_ylim([0,1])\n",
    "ax.set_title(\"ARI per K, \"+title,fontweight='bold')\n",
    "plt.savefig(title+\"_Kcomp.png\",bbox_inches = 'tight',pad_inches=0.1)"
   ]
  },
  {
   "cell_type": "markdown",
   "metadata": {},
   "source": [
    "### E-shape Dimension Comparisons"
   ]
  },
  {
   "cell_type": "code",
   "execution_count": null,
   "metadata": {},
   "outputs": [],
   "source": [
    "scores_fm_47 = deepcopy(scores_fm)\n",
    "scores_gn_47 = deepcopy(scores_gn)\n",
    "scores_sp_47 = deepcopy(scores_sp)"
   ]
  },
  {
   "cell_type": "code",
   "execution_count": null,
   "metadata": {},
   "outputs": [],
   "source": [
    "scores_fm_31 = deepcopy(scores_fm)\n",
    "scores_gn_31 = deepcopy(scores_gn)\n",
    "scores_sp_31 = deepcopy(scores_sp)"
   ]
  },
  {
   "cell_type": "code",
   "execution_count": null,
   "metadata": {},
   "outputs": [],
   "source": [
    "scores_fm_16 = deepcopy(scores_fm)\n",
    "scores_gn_16 = deepcopy(scores_gn)\n",
    "scores_sp_16 = deepcopy(scores_sp)"
   ]
  },
  {
   "cell_type": "code",
   "execution_count": null,
   "metadata": {},
   "outputs": [],
   "source": [
    "df_fm = pd.DataFrame([k_neighbours,scores_fm_47,scores_fm_31,scores_fm_16]).T\n",
    "df_fm = df_fm.rename(columns={0: \"Neighbours\", 1: \"47D - 99%\", 2: \"31D - 98%\", 3: \"16D - 95%\"})\n",
    "df_fm = df_fm.melt(\"Neighbours\", var_name='Dimension',  value_name='ARI')"
   ]
  },
  {
   "cell_type": "code",
   "execution_count": null,
   "metadata": {},
   "outputs": [],
   "source": [
    "df_gn = pd.DataFrame([k_neighbours,scores_gn_47,scores_gn_31,scores_gn_16]).T\n",
    "df_gn = df_gn.rename(columns={0: \"Neighbours\", 1: \"47D - 99%\", 2: \"31D - 98%\", 3: \"16D - 95%\"})\n",
    "df_gn = df_gn.melt(\"Neighbours\", var_name='Dimension',  value_name='ARI')"
   ]
  },
  {
   "cell_type": "code",
   "execution_count": null,
   "metadata": {},
   "outputs": [],
   "source": [
    "df_sp = pd.DataFrame([k_neighbours,scores_sp_47,scores_sp_31,scores_sp_16]).T\n",
    "df_sp = df_sp.rename(columns={0: \"Neighbours\", 1: \"47D - 99%\", 2: \"31D - 98%\", 3: \"16D - 95%\"})\n",
    "df_sp = df_sp.melt(\"Neighbours\", var_name='Dimension',  value_name='ARI')"
   ]
  },
  {
   "cell_type": "code",
   "execution_count": null,
   "metadata": {},
   "outputs": [],
   "source": [
    "fig_dims = (12, 15)\n",
    "fig, ax = plt.subplots(3,1,figsize=fig_dims)\n",
    "sns.barplot(x=\"Neighbours\", y=\"ARI\", hue='Dimension', data=df_fm,palette = sns.cubehelix_palette(7, start=.95, rot=-.75)\n",
    "           ,ax = ax[0])\n",
    "\n",
    "ax[0].set_ylim([0.7,1])\n",
    "ax[0].set_title(\"KNN Family Accuracy per K, per Eigenshape Dimension\")\n",
    "ax[0].legend(title='Embedding Dimension (var)',loc=\"lower right\")\n",
    "sns.barplot(x=\"Neighbours\", y=\"ARI\", hue='Dimension', data=df_gn,palette = sns.cubehelix_palette(7, start=.95, rot=-.75)\n",
    "           ,ax = ax[1])\n",
    "\n",
    "ax[1].set_ylim([0.7,1])\n",
    "ax[1].set_title(\"KNN Genus Accuracy per K, per Eigenshape Dimension\")\n",
    "ax[1].legend(title='Embedding Dimension (var)',loc=\"lower right\")\n",
    "\n",
    "sns.barplot(x=\"Neighbours\", y=\"ARI\", hue='Dimension', data=df_sp,palette = sns.cubehelix_palette(7, start=.95, rot=-.75)\n",
    "           ,ax = ax[2])\n",
    "\n",
    "ax[2].set_ylim([0,0.3])\n",
    "ax[2].set_title(\"KNN Specie Accuracy per K, per Eigenshape Dimension\")\n",
    "ax[2].legend(title='Embedding Dimension (var)',loc=\"lower right\")\n",
    "\n",
    "fig.savefig(\"KNN_ARI_Eigenshape_Dimension_Comparison_Shells.png\",bbox_inches = 'tight')\n"
   ]
  },
  {
   "cell_type": "code",
   "execution_count": null,
   "metadata": {},
   "outputs": [],
   "source": []
  }
 ],
 "metadata": {
  "kernelspec": {
   "display_name": "Python 3",
   "language": "python",
   "name": "python3"
  },
  "language_info": {
   "codemirror_mode": {
    "name": "ipython",
    "version": 3
   },
   "file_extension": ".py",
   "mimetype": "text/x-python",
   "name": "python",
   "nbconvert_exporter": "python",
   "pygments_lexer": "ipython3",
   "version": "3.7.1"
  }
 },
 "nbformat": 4,
 "nbformat_minor": 4
}
